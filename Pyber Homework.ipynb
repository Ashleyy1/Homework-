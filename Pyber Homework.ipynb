{
 "cells": [
  {
   "cell_type": "code",
   "execution_count": 1,
   "metadata": {},
   "outputs": [
    {
     "data": {
      "text/html": [
       "<div>\n",
       "<style scoped>\n",
       "    .dataframe tbody tr th:only-of-type {\n",
       "        vertical-align: middle;\n",
       "    }\n",
       "\n",
       "    .dataframe tbody tr th {\n",
       "        vertical-align: top;\n",
       "    }\n",
       "\n",
       "    .dataframe thead th {\n",
       "        text-align: right;\n",
       "    }\n",
       "</style>\n",
       "<table border=\"1\" class=\"dataframe\">\n",
       "  <thead>\n",
       "    <tr style=\"text-align: right;\">\n",
       "      <th></th>\n",
       "      <th>city</th>\n",
       "      <th>driver_count</th>\n",
       "      <th>type</th>\n",
       "      <th>date</th>\n",
       "      <th>fare</th>\n",
       "      <th>ride_id</th>\n",
       "    </tr>\n",
       "  </thead>\n",
       "  <tbody>\n",
       "    <tr>\n",
       "      <th>0</th>\n",
       "      <td>Richardfort</td>\n",
       "      <td>38</td>\n",
       "      <td>Urban</td>\n",
       "      <td>2018-02-24 08:40:38</td>\n",
       "      <td>13.93</td>\n",
       "      <td>5628545007794</td>\n",
       "    </tr>\n",
       "    <tr>\n",
       "      <th>1</th>\n",
       "      <td>Richardfort</td>\n",
       "      <td>38</td>\n",
       "      <td>Urban</td>\n",
       "      <td>2018-02-13 12:46:07</td>\n",
       "      <td>14.00</td>\n",
       "      <td>910050116494</td>\n",
       "    </tr>\n",
       "    <tr>\n",
       "      <th>2</th>\n",
       "      <td>Richardfort</td>\n",
       "      <td>38</td>\n",
       "      <td>Urban</td>\n",
       "      <td>2018-02-16 13:52:19</td>\n",
       "      <td>17.92</td>\n",
       "      <td>820639054416</td>\n",
       "    </tr>\n",
       "    <tr>\n",
       "      <th>3</th>\n",
       "      <td>Richardfort</td>\n",
       "      <td>38</td>\n",
       "      <td>Urban</td>\n",
       "      <td>2018-02-01 20:18:28</td>\n",
       "      <td>10.26</td>\n",
       "      <td>9554935945413</td>\n",
       "    </tr>\n",
       "    <tr>\n",
       "      <th>4</th>\n",
       "      <td>Richardfort</td>\n",
       "      <td>38</td>\n",
       "      <td>Urban</td>\n",
       "      <td>2018-04-17 02:26:37</td>\n",
       "      <td>23.00</td>\n",
       "      <td>720020655850</td>\n",
       "    </tr>\n",
       "  </tbody>\n",
       "</table>\n",
       "</div>"
      ],
      "text/plain": [
       "          city  driver_count   type                 date   fare        ride_id\n",
       "0  Richardfort            38  Urban  2018-02-24 08:40:38  13.93  5628545007794\n",
       "1  Richardfort            38  Urban  2018-02-13 12:46:07  14.00   910050116494\n",
       "2  Richardfort            38  Urban  2018-02-16 13:52:19  17.92   820639054416\n",
       "3  Richardfort            38  Urban  2018-02-01 20:18:28  10.26  9554935945413\n",
       "4  Richardfort            38  Urban  2018-04-17 02:26:37  23.00   720020655850"
      ]
     },
     "execution_count": 1,
     "metadata": {},
     "output_type": "execute_result"
    }
   ],
   "source": [
    "%matplotlib inline \n",
    "import pandas as pd\n",
    "import os\n",
    "import numpy as np \n",
    "import matplotlib.pyplot as plt\n",
    "\n",
    "city_data_to_load = \"data/city_data.csv\"\n",
    "ride_data_to_load = \"data/ride_data.csv\"\n",
    "\n",
    "df_city = pd.read_csv(\"data/city_data.csv\")\n",
    "df_ride = pd.read_csv(\"data/ride_data.csv\")\n",
    "\n",
    "df_merged = pd.merge(df_city, df_ride)\n",
    "\n",
    "df_city_ride = df_merged\n",
    "df_city_ride.head()"
   ]
  },
  {
   "cell_type": "code",
   "execution_count": 2,
   "metadata": {},
   "outputs": [
    {
     "data": {
      "text/html": [
       "<div>\n",
       "<style scoped>\n",
       "    .dataframe tbody tr th:only-of-type {\n",
       "        vertical-align: middle;\n",
       "    }\n",
       "\n",
       "    .dataframe tbody tr th {\n",
       "        vertical-align: top;\n",
       "    }\n",
       "\n",
       "    .dataframe thead th {\n",
       "        text-align: right;\n",
       "    }\n",
       "</style>\n",
       "<table border=\"1\" class=\"dataframe\">\n",
       "  <thead>\n",
       "    <tr style=\"text-align: right;\">\n",
       "      <th></th>\n",
       "      <th>Average City Fare</th>\n",
       "      <th>Total Rides</th>\n",
       "      <th>Total Drivers</th>\n",
       "      <th>City Type</th>\n",
       "    </tr>\n",
       "    <tr>\n",
       "      <th>city</th>\n",
       "      <th></th>\n",
       "      <th></th>\n",
       "      <th></th>\n",
       "      <th></th>\n",
       "    </tr>\n",
       "  </thead>\n",
       "  <tbody>\n",
       "    <tr>\n",
       "      <th>Amandaburgh</th>\n",
       "      <td>24.641667</td>\n",
       "      <td>18</td>\n",
       "      <td>18</td>\n",
       "      <td>Urban</td>\n",
       "    </tr>\n",
       "    <tr>\n",
       "      <th>Barajasview</th>\n",
       "      <td>25.332273</td>\n",
       "      <td>22</td>\n",
       "      <td>22</td>\n",
       "      <td>Urban</td>\n",
       "    </tr>\n",
       "    <tr>\n",
       "      <th>Barronchester</th>\n",
       "      <td>36.422500</td>\n",
       "      <td>16</td>\n",
       "      <td>16</td>\n",
       "      <td>Suburban</td>\n",
       "    </tr>\n",
       "    <tr>\n",
       "      <th>Bethanyland</th>\n",
       "      <td>32.956111</td>\n",
       "      <td>18</td>\n",
       "      <td>18</td>\n",
       "      <td>Suburban</td>\n",
       "    </tr>\n",
       "    <tr>\n",
       "      <th>Bradshawfurt</th>\n",
       "      <td>40.064000</td>\n",
       "      <td>10</td>\n",
       "      <td>10</td>\n",
       "      <td>Rural</td>\n",
       "    </tr>\n",
       "  </tbody>\n",
       "</table>\n",
       "</div>"
      ],
      "text/plain": [
       "               Average City Fare  Total Rides  Total Drivers City Type\n",
       "city                                                                  \n",
       "Amandaburgh            24.641667           18             18     Urban\n",
       "Barajasview            25.332273           22             22     Urban\n",
       "Barronchester          36.422500           16             16  Suburban\n",
       "Bethanyland            32.956111           18             18  Suburban\n",
       "Bradshawfurt           40.064000           10             10     Rural"
      ]
     },
     "execution_count": 2,
     "metadata": {},
     "output_type": "execute_result"
    }
   ],
   "source": [
    "# create a group based on the city column \n",
    "group_city = df_city_ride.groupby('city')\n",
    "\n",
    "# average fare ($) per city\n",
    "avg_fare = group_city['fare'].mean()\n",
    "\n",
    "# total number of rides \n",
    "total_rides = group_city['ride_id'].nunique()\n",
    "\n",
    "# total number of drivers \n",
    "total_drivers = group_city['driver_count'].count()\n",
    "\n",
    "#determine city type\n",
    "city_type = group_city['type'].max()\n",
    "\n",
    "#create dataframe \n",
    "city_summary = pd.DataFrame({\"Average City Fare\" : avg_fare,\n",
    "                            \"Total Rides\" : total_rides,\n",
    "                            \"Total Drivers\" : total_drivers,\n",
    "                            \"City Type\" : city_type})\n",
    "city_summary.head()"
   ]
  },
  {
   "cell_type": "code",
   "execution_count": 3,
   "metadata": {},
   "outputs": [
    {
     "data": {
      "text/html": [
       "<div>\n",
       "<style scoped>\n",
       "    .dataframe tbody tr th:only-of-type {\n",
       "        vertical-align: middle;\n",
       "    }\n",
       "\n",
       "    .dataframe tbody tr th {\n",
       "        vertical-align: top;\n",
       "    }\n",
       "\n",
       "    .dataframe thead th {\n",
       "        text-align: right;\n",
       "    }\n",
       "</style>\n",
       "<table border=\"1\" class=\"dataframe\">\n",
       "  <thead>\n",
       "    <tr style=\"text-align: right;\">\n",
       "      <th></th>\n",
       "      <th>Average City Fare</th>\n",
       "      <th>Total Rides</th>\n",
       "      <th>Total Drivers</th>\n",
       "      <th>City Type</th>\n",
       "    </tr>\n",
       "    <tr>\n",
       "      <th>city</th>\n",
       "      <th></th>\n",
       "      <th></th>\n",
       "      <th></th>\n",
       "      <th></th>\n",
       "    </tr>\n",
       "  </thead>\n",
       "  <tbody>\n",
       "    <tr>\n",
       "      <th>Amandaburgh</th>\n",
       "      <td>24.641667</td>\n",
       "      <td>18</td>\n",
       "      <td>18</td>\n",
       "      <td>Urban</td>\n",
       "    </tr>\n",
       "    <tr>\n",
       "      <th>Barajasview</th>\n",
       "      <td>25.332273</td>\n",
       "      <td>22</td>\n",
       "      <td>22</td>\n",
       "      <td>Urban</td>\n",
       "    </tr>\n",
       "    <tr>\n",
       "      <th>Barronchester</th>\n",
       "      <td>36.422500</td>\n",
       "      <td>16</td>\n",
       "      <td>16</td>\n",
       "      <td>Suburban</td>\n",
       "    </tr>\n",
       "    <tr>\n",
       "      <th>Bethanyland</th>\n",
       "      <td>32.956111</td>\n",
       "      <td>18</td>\n",
       "      <td>18</td>\n",
       "      <td>Suburban</td>\n",
       "    </tr>\n",
       "    <tr>\n",
       "      <th>Bradshawfurt</th>\n",
       "      <td>40.064000</td>\n",
       "      <td>10</td>\n",
       "      <td>10</td>\n",
       "      <td>Rural</td>\n",
       "    </tr>\n",
       "  </tbody>\n",
       "</table>\n",
       "</div>"
      ],
      "text/plain": [
       "               Average City Fare  Total Rides  Total Drivers City Type\n",
       "city                                                                  \n",
       "Amandaburgh            24.641667           18             18     Urban\n",
       "Barajasview            25.332273           22             22     Urban\n",
       "Barronchester          36.422500           16             16  Suburban\n",
       "Bethanyland            32.956111           18             18  Suburban\n",
       "Bradshawfurt           40.064000           10             10     Rural"
      ]
     },
     "execution_count": 3,
     "metadata": {},
     "output_type": "execute_result"
    }
   ],
   "source": [
    "# group by city type \n",
    "#urban \n",
    "urban = city_summary.loc[city_summary['City Type'] == 'Urban']\n",
    "avg_fare_urban = urban['Average City Fare']\n",
    "total_rides_urban = urban[\"Total Rides\"]\n",
    "total_drivers_urban = urban[\"Total Drivers\"]\n",
    "\n",
    "#suburban \n",
    "suburban = city_summary.loc[city_summary['City Type'] == 'Suburban']\n",
    "avg_fare_suburban = suburban[\"Average City Fare\"]\n",
    "total_rides_suburban = suburban[\"Total Rides\"]\n",
    "total_drivers_suburban = suburban[\"Total Drivers\"]\n",
    "\n",
    "#rural \n",
    "rural = city_summary.loc[city_summary['City Type'] == 'Rural']\n",
    "avg_fare_rural = rural[\"Average City Fare\"]\n",
    "total_rides_rural = rural[\"Total Rides\"]\n",
    "total_drivers_rural = rural[\"Total Drivers\"]\n",
    "\n",
    "city_summary.head()"
   ]
  },
  {
   "cell_type": "code",
   "execution_count": 16,
   "metadata": {},
   "outputs": [
    {
     "data": {
      "image/png": "[encoded data removed]",
      "text/plain": [
       "<Figure size 432x288 with 1 Axes>"
      ]
     },
     "metadata": {
      "needs_background": "light"
     },
     "output_type": "display_data"
    }
   ],
   "source": [
    "plt.figure()\n",
    "\n",
    "urban_plot = plt.scatter(total_rides_urban, avg_fare_urban, s=total_drivers_urban*10,\\\n",
    "                        color = 'cyan', alpha = 0.5, edgecolor = 'black', linewidth = 1.5, label = 'Urban')\n",
    "suburban_plot = plt.scatter(total_rides_suburban, avg_fare_suburban, s=total_drivers_suburban*10,\\\n",
    "                           color = 'magenta', alpha = 0.5, edgecolor = 'black', linewidth = 1.5, label = 'Suburban')\n",
    "rural_plot = plt.scatter(total_rides_rural, avg_fare_rural, s=total_drivers_rural*10,\\\n",
    "                        color = 'yellow', alpha = 0.5, edgecolor = 'black', linewidth = 1.5, label = 'Rural')\n",
    "\n",
    "# label chart\n",
    "plt.title ('Pyber Ride Sharing Data (2016)')\n",
    "plt.xlabel('Total Number of Rides (Per City)')\n",
    "plt.ylabel('Average Fare ($)')\n",
    "\n",
    "\n",
    "# add and format legend\n",
    "lgnd = plt.legend(handles=[urban_plot,suburban_plot,rural_plot], loc ='best',title = 'city types')\n",
    "lgnd.legendHandles[0]._sizes = [30]\n",
    "lgnd.legendHandles[1]._sizes = [30]\n",
    "lgnd.legendHandles[2]._sizes = [30]\n",
    "\n",
    "plt.show()"
   ]
  },
  {
   "cell_type": "markdown",
   "metadata": {},
   "source": [
    "TOTAL FARES BY CITY TYPE:"
   ]
  },
  {
   "cell_type": "code",
   "execution_count": 5,
   "metadata": {},
   "outputs": [
    {
     "data": {
      "text/html": [
       "<div>\n",
       "<style scoped>\n",
       "    .dataframe tbody tr th:only-of-type {\n",
       "        vertical-align: middle;\n",
       "    }\n",
       "\n",
       "    .dataframe tbody tr th {\n",
       "        vertical-align: top;\n",
       "    }\n",
       "\n",
       "    .dataframe thead th {\n",
       "        text-align: right;\n",
       "    }\n",
       "</style>\n",
       "<table border=\"1\" class=\"dataframe\">\n",
       "  <thead>\n",
       "    <tr style=\"text-align: right;\">\n",
       "      <th></th>\n",
       "      <th>Total Fare Per Type</th>\n",
       "    </tr>\n",
       "    <tr>\n",
       "      <th>type</th>\n",
       "      <th></th>\n",
       "    </tr>\n",
       "  </thead>\n",
       "  <tbody>\n",
       "    <tr>\n",
       "      <th>Rural</th>\n",
       "      <td>4327.93</td>\n",
       "    </tr>\n",
       "    <tr>\n",
       "      <th>Suburban</th>\n",
       "      <td>19356.33</td>\n",
       "    </tr>\n",
       "    <tr>\n",
       "      <th>Urban</th>\n",
       "      <td>39854.38</td>\n",
       "    </tr>\n",
       "  </tbody>\n",
       "</table>\n",
       "</div>"
      ],
      "text/plain": [
       "          Total Fare Per Type\n",
       "type                         \n",
       "Rural                 4327.93\n",
       "Suburban             19356.33\n",
       "Urban                39854.38"
      ]
     },
     "execution_count": 5,
     "metadata": {},
     "output_type": "execute_result"
    }
   ],
   "source": [
    "#% of total fares by city type\n",
    "# group by city type \n",
    "group_type = df_city_ride.groupby(['type'])\n",
    "\n",
    "# calculate the total fare per city type \n",
    "total_fare_all = group_type['fare'].sum()\n",
    "total_fare_df = pd.DataFrame({\"Total Fare Per Type\" : total_fare_all})\n",
    "total_fare_df"
   ]
  },
  {
   "cell_type": "code",
   "execution_count": 6,
   "metadata": {},
   "outputs": [
    {
     "data": {
      "text/html": [
       "<div>\n",
       "<style scoped>\n",
       "    .dataframe tbody tr th:only-of-type {\n",
       "        vertical-align: middle;\n",
       "    }\n",
       "\n",
       "    .dataframe tbody tr th {\n",
       "        vertical-align: top;\n",
       "    }\n",
       "\n",
       "    .dataframe thead th {\n",
       "        text-align: right;\n",
       "    }\n",
       "</style>\n",
       "<table border=\"1\" class=\"dataframe\">\n",
       "  <thead>\n",
       "    <tr style=\"text-align: right;\">\n",
       "      <th></th>\n",
       "      <th>Percentage</th>\n",
       "    </tr>\n",
       "    <tr>\n",
       "      <th>type</th>\n",
       "      <th></th>\n",
       "    </tr>\n",
       "  </thead>\n",
       "  <tbody>\n",
       "    <tr>\n",
       "      <th>Rural</th>\n",
       "      <td>6.811493</td>\n",
       "    </tr>\n",
       "    <tr>\n",
       "      <th>Suburban</th>\n",
       "      <td>30.463872</td>\n",
       "    </tr>\n",
       "    <tr>\n",
       "      <th>Urban</th>\n",
       "      <td>62.724635</td>\n",
       "    </tr>\n",
       "  </tbody>\n",
       "</table>\n",
       "</div>"
      ],
      "text/plain": [
       "          Percentage\n",
       "type                \n",
       "Rural       6.811493\n",
       "Suburban   30.463872\n",
       "Urban      62.724635"
      ]
     },
     "execution_count": 6,
     "metadata": {},
     "output_type": "execute_result"
    }
   ],
   "source": [
    "# Calculate the percent of each city type \n",
    "percent_per_type = total_fare_df[\"Total Fare Per Type\"] / total_fare_df[\"Total Fare Per Type\"].sum()*100\n",
    "percent_per_type_df = pd.DataFrame({\"Percentage\" : percent_per_type})\n",
    "percent_per_type_df"
   ]
  },
  {
   "cell_type": "code",
   "execution_count": 17,
   "metadata": {},
   "outputs": [
    {
     "data": {
      "image/png": "[encoded data removed]",
      "text/plain": [
       "<Figure size 432x288 with 1 Axes>"
      ]
     },
     "metadata": {},
     "output_type": "display_data"
    }
   ],
   "source": [
    "#Summarize \n",
    "percent_per_type_f = pd.merge(total_fare_df, percent_per_type_df, right_index = True, left_index = True)\n",
    "\n",
    "percent_f_rural = percent_per_type_f.iloc[0][1]\n",
    "percent_f_urban = percent_per_type_f.iloc[1][1]\n",
    "percent_f_suburban = percent_per_type_f.iloc[2][1]\n",
    "\n",
    "#Create Pie Chart \n",
    "fexplode = [0.1, 0.1, 0]\n",
    "flabels = ['Rural', 'Suburban', 'Urban']\n",
    "percents_fare = [percent_f_rural, percent_f_suburban, percent_f_urban]\n",
    "fcolors = ['yellow', 'magenta', 'cyan']\n",
    "\n",
    "plt.pie(percents_fare, labels = flabels, colors = fcolors, explode = fexplode,\\\n",
    "        autopct=\"{0:1.1f}%\".format, shadow=True, startangle=190)\n",
    "\n",
    "plt.title('% of Total Fares By City Type')\n",
    "plt.axis(\"equal\")\n",
    "\n",
    "plt.show()"
   ]
  },
  {
   "cell_type": "markdown",
   "metadata": {},
   "source": [
    "TOTAL RIDES BY CITY TYPE:"
   ]
  },
  {
   "cell_type": "code",
   "execution_count": 8,
   "metadata": {},
   "outputs": [
    {
     "data": {
      "text/html": [
       "<div>\n",
       "<style scoped>\n",
       "    .dataframe tbody tr th:only-of-type {\n",
       "        vertical-align: middle;\n",
       "    }\n",
       "\n",
       "    .dataframe tbody tr th {\n",
       "        vertical-align: top;\n",
       "    }\n",
       "\n",
       "    .dataframe thead th {\n",
       "        text-align: right;\n",
       "    }\n",
       "</style>\n",
       "<table border=\"1\" class=\"dataframe\">\n",
       "  <thead>\n",
       "    <tr style=\"text-align: right;\">\n",
       "      <th></th>\n",
       "      <th>Total Rides Per Type</th>\n",
       "    </tr>\n",
       "    <tr>\n",
       "      <th>type</th>\n",
       "      <th></th>\n",
       "    </tr>\n",
       "  </thead>\n",
       "  <tbody>\n",
       "    <tr>\n",
       "      <th>Rural</th>\n",
       "      <td>125</td>\n",
       "    </tr>\n",
       "    <tr>\n",
       "      <th>Suburban</th>\n",
       "      <td>625</td>\n",
       "    </tr>\n",
       "    <tr>\n",
       "      <th>Urban</th>\n",
       "      <td>1625</td>\n",
       "    </tr>\n",
       "  </tbody>\n",
       "</table>\n",
       "</div>"
      ],
      "text/plain": [
       "          Total Rides Per Type\n",
       "type                          \n",
       "Rural                      125\n",
       "Suburban                   625\n",
       "Urban                     1625"
      ]
     },
     "execution_count": 8,
     "metadata": {},
     "output_type": "execute_result"
    }
   ],
   "source": [
    "#% of rides per city type \n",
    "#Calculate total rides per city type \n",
    "total_rides_r = group_type['ride_id'].nunique()\n",
    "total_rides_df = pd.DataFrame({\"Total Rides Per Type\" : total_rides_r})\n",
    "total_rides_df"
   ]
  },
  {
   "cell_type": "code",
   "execution_count": 9,
   "metadata": {},
   "outputs": [
    {
     "data": {
      "text/html": [
       "<div>\n",
       "<style scoped>\n",
       "    .dataframe tbody tr th:only-of-type {\n",
       "        vertical-align: middle;\n",
       "    }\n",
       "\n",
       "    .dataframe tbody tr th {\n",
       "        vertical-align: top;\n",
       "    }\n",
       "\n",
       "    .dataframe thead th {\n",
       "        text-align: right;\n",
       "    }\n",
       "</style>\n",
       "<table border=\"1\" class=\"dataframe\">\n",
       "  <thead>\n",
       "    <tr style=\"text-align: right;\">\n",
       "      <th></th>\n",
       "      <th>Percentage</th>\n",
       "    </tr>\n",
       "    <tr>\n",
       "      <th>type</th>\n",
       "      <th></th>\n",
       "    </tr>\n",
       "  </thead>\n",
       "  <tbody>\n",
       "    <tr>\n",
       "      <th>Rural</th>\n",
       "      <td>5.263158</td>\n",
       "    </tr>\n",
       "    <tr>\n",
       "      <th>Suburban</th>\n",
       "      <td>26.315789</td>\n",
       "    </tr>\n",
       "    <tr>\n",
       "      <th>Urban</th>\n",
       "      <td>68.421053</td>\n",
       "    </tr>\n",
       "  </tbody>\n",
       "</table>\n",
       "</div>"
      ],
      "text/plain": [
       "          Percentage\n",
       "type                \n",
       "Rural       5.263158\n",
       "Suburban   26.315789\n",
       "Urban      68.421053"
      ]
     },
     "execution_count": 9,
     "metadata": {},
     "output_type": "execute_result"
    }
   ],
   "source": [
    "#Calculate the percent of each city type\n",
    "percent_per_type_r = total_rides_df['Total Rides Per Type']/ total_rides_df[\"Total Rides Per Type\"].sum()*100\n",
    "percent_per_type_dff = pd.DataFrame({\"Percentage\" : percent_per_type_r})\n",
    "percent_per_type_dff"
   ]
  },
  {
   "cell_type": "code",
   "execution_count": 22,
   "metadata": {},
   "outputs": [
    {
     "data": {
      "image/png": "[encoded data removed]",
      "text/plain": [
       "<Figure size 432x288 with 1 Axes>"
      ]
     },
     "metadata": {},
     "output_type": "display_data"
    }
   ],
   "source": [
    "# Summarize\n",
    "percent_rides_type = pd.merge(total_rides_df,percent_per_type_dff , right_index=True, left_index=True)\n",
    "\n",
    "percent_r_rural = percent_rides_type.iloc[0][1]\n",
    "percent_r_suburban = percent_rides_type.iloc[1][1]\n",
    "percent_r_urban = percent_rides_type.iloc[2][1]\n",
    "\n",
    "# Create Pie Chart \n",
    "rexplode = [0.1, 0.1, 0]\n",
    "rlabels = ['Rural', \"Suburban\", 'Urban']\n",
    "percents_rides = [percent_r_rural, percent_r_suburban, percent_r_urban]\n",
    "rcolors = ['yellow', 'magenta', 'cyan']\n",
    "\n",
    "plt.pie(percents_rides, labels = rlabels, colors = rcolors, explode = rexplode,\\\n",
    "        autopct=\"{0:1.1f}%\".format, shadow=True, startangle=190)\n",
    "plt.title('Total Rides Per City Type')\n",
    "plt.axis(\"equal\")\n",
    "\n",
    "plt.show()"
   ]
  },
  {
   "cell_type": "markdown",
   "metadata": {},
   "source": [
    "TOTAL DRIVERS BY CITY TYPE:"
   ]
  },
  {
   "cell_type": "code",
   "execution_count": 21,
   "metadata": {},
   "outputs": [
    {
     "data": {
      "image/png": "[encoded data removed]",
      "text/plain": [
       "<Figure size 432x288 with 1 Axes>"
      ]
     },
     "metadata": {},
     "output_type": "display_data"
    }
   ],
   "source": [
    "# % of total drivers per city type \n",
    "# Calculate total drivers and total drivers by city type\n",
    "urban_d = city_summary.loc[city_summary['City Type']=='Urban']\n",
    "total_urban_d = urban_d['Total Drivers'].sum()\n",
    "\n",
    "suburban_d = city_summary.loc[city_summary['City Type']=='Suburban']\n",
    "total_suburban_d = suburban_d['Total Drivers'].sum()\n",
    "\n",
    "rural_d = city_summary.loc[city_summary['City Type']=='Rural']\n",
    "total_rural_d = rural_d['Total Drivers'].sum()\n",
    "\n",
    "total_drivers_all = city_summary['Total Drivers'].sum()\n",
    "\n",
    "# Calculate percent of each city type\n",
    "percent_urban_d = total_urban_d / total_drivers_all * 100\n",
    "percent_suburban_d = total_suburban_d / total_drivers_all * 100\n",
    "percent_rural_d = total_rural_d / total_drivers_all * 100\n",
    "\n",
    "# User bar chart\n",
    "dexplode = [0.1, 0.1, 0]\n",
    "dlabels = ['Rural', 'Suburban', 'Urban']\n",
    "percents_drivers = [percent_rural_d, percent_suburban_d, percent_urban_d]\n",
    "dcolors = ['yellow', 'magenta', 'cyan']\n",
    "\n",
    "plt.pie(percents_drivers, labels=dlabels, colors=dcolors, explode=dexplode, \n",
    "        autopct=\"{0:1.1f}%\".format, shadow=True, startangle=190)\n",
    "plt.title('% of Total Drivers by City Type')\n",
    "plt.axis(\"equal\")\n",
    "\n",
    "plt.show()"
   ]
  },
  {
   "cell_type": "code",
   "execution_count": null,
   "metadata": {},
   "outputs": [],
   "source": []
  }
 ],
 "metadata": {
  "kernelspec": {
   "display_name": "Python 3",
   "language": "python",
   "name": "python3"
  },
  "language_info": {
   "codemirror_mode": {
    "name": "ipython",
    "version": 3
   },
   "file_extension": ".py",
   "mimetype": "text/x-python",
   "name": "python",
   "nbconvert_exporter": "python",
   "pygments_lexer": "ipython3",
   "version": "3.7.3"
  }
 },
 "nbformat": 4,
 "nbformat_minor": 2
}
